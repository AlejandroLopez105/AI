{
  "nbformat": 4,
  "nbformat_minor": 0,
  "metadata": {
    "kernelspec": {
      "display_name": "Python 3",
      "language": "python",
      "name": "python3"
    },
    "language_info": {
      "codemirror_mode": {
        "name": "ipython",
        "version": 3
      },
      "file_extension": ".py",
      "mimetype": "text/x-python",
      "name": "python",
      "nbconvert_exporter": "python",
      "pygments_lexer": "ipython3",
      "version": "3.8.6rc1"
    },
    "colab": {
      "name": "Tarea 1 Regresiones (1).ipynb",
      "provenance": []
    }
  },
  "cells": [
    {
      "cell_type": "markdown",
      "metadata": {
        "id": "5Wj1xexqbGcB"
      },
      "source": [
        "# TAREA 1: Regresiones\n",
        "#### Inteligencia Artificial\n",
        "#### Autor: Miguel Alejandro López Olvera\n",
        "#### Correo: alejandrolo829@gmail.com"
      ]
    },
    {
      "cell_type": "markdown",
      "metadata": {
        "id": "xRCg-EA3bGcG"
      },
      "source": [
        "Step 1: Importing libraries and dataset"
      ]
    },
    {
      "cell_type": "code",
      "metadata": {
        "id": "AIXR_J0tbGcG"
      },
      "source": [
        "import pandas as pd\n",
        "import matplotlib.pyplot as plt\n",
        "import numpy as np\n",
        "from sympy import symbols\n",
        "from sklearn import linear_model\n",
        "\n",
        "df = pd.read_csv(\"https://raw.githubusercontent.com/ulises1229/IA-2021-II/main/data/iris.csv\")\n",
        "    \n",
        "#df.head()"
      ],
      "execution_count": null,
      "outputs": []
    },
    {
      "cell_type": "markdown",
      "metadata": {
        "id": "kYPw1uYgbGcH"
      },
      "source": [
        "*The formula for our lineal model is:*\n",
        "\n",
        "$ \\hat{y} =  b_0 + b_1 x$\n",
        "\n",
        "Where the slope can be understood as follows:\n",
        "\n",
        "$b1 = \\frac{\\sum x y  - \\frac{(\\sum x )(\\sum y)}{n} }{\\sum x^2 - \\frac{(\\sum x)^2}{n}} = \\frac{S_{xy}}{S_{xx}}$"
      ]
    },
    {
      "cell_type": "markdown",
      "metadata": {
        "id": "3VamcvLqbGcH"
      },
      "source": [
        "Step 2:\n",
        "Definition of a class to graph all the functions we want\n"
      ]
    },
    {
      "cell_type": "code",
      "metadata": {
        "id": "v31aTU6JbGcI"
      },
      "source": [
        "class Graph:\n",
        "\n",
        "    def plotGraph(self, title, xlabel,ylabel):\n",
        "        plt.title(title)\n",
        "        plt.ylabel(ylabel)\n",
        "        plt.xlabel(xlabel)\n",
        "    def plotScatter(self, x, y, label):\n",
        "        plt.scatter(x,y,label = label)\n",
        "    def plotFunction(self, rangex,func, color, legend):\n",
        "        plt.plot(rangex,func, color = color, label = legend)\n",
        "    def showPlot(self):\n",
        "        plt.show()\n"
      ],
      "execution_count": null,
      "outputs": []
    },
    {
      "cell_type": "markdown",
      "metadata": {
        "id": "QfzXkrwnbGcI"
      },
      "source": [
        "Step 3: we define a class that contains the following methods:\n",
        "\n",
        "       1. Constructor: that contains our variables.\n",
        "    \n",
        "       2.Linear regression: main function to make our linear model\n",
        "    \n",
        "       3. predict: receives a value on the \"x\" axis and returns a y value that fits the linear model\n",
        "    \n",
        "       4. MSE: here we calculate the mean square error"
      ]
    },
    {
      "cell_type": "code",
      "metadata": {
        "id": "9i7OpuSBbGcI"
      },
      "source": [
        "class Regression:\n",
        "    def __init__(self, x, y,x_t,y_t):\n",
        "        self.x = x\n",
        "        self.y = y\n",
        "        self.x_t = x_t\n",
        "        self.y_t = y_t\n",
        "        self.a = symbols('a')\n",
        "\n",
        "    \"\"\" In this method we are doing a linear regression model\"\"\"\n",
        "    def linearRegression(self):\n",
        "        \"\"\"We have to calculate the slope of the regression line\"\"\"\n",
        "        #the first step is to calculate the sum of the square of the differences between x_mean and x  -->SSxx \n",
        "        x_mean = self.x.mean()\n",
        "        diffx = x_mean-self.x\n",
        "        diffx_squared = diffx**2\n",
        "        SSxx = diffx_squared.sum()\n",
        "        #The second step is to calculate SSxy\n",
        "        y_mean = self.y.mean()\n",
        "        diffy = y_mean-self.y \n",
        "        SSxy = (diffx * diffy).sum()\n",
        "        #once we have SSxx and SSxy we can calculate the slope just diving one by another following our equation\n",
        "        b1 = SSxy/SSxx\n",
        "        #finally, solving for the intercept we obtain:\n",
        "        b0 = y_mean -b1*x_mean\n",
        "        equation = b1*self.a+b0\n",
        "        return (equation, b0, b1)\n",
        "    \"\"\"Here we use our linear regression model to predict data \"\"\"\n",
        "    def predict(self, value):\n",
        "        objG = Graph()\n",
        "        equation, b0, b1 = self.linearRegression()\n",
        "        y = equation.subs(self.a,value)\n",
        "        y_predict_1 = b1*self.x+b0 #predicted values  \n",
        "        y_predict_2 = b1*self.x_t+b0 #predicted values with data for testing \n",
        "        #Plotting our model\n",
        "        objG.plotScatter(self.x,self.y,'Training values')\n",
        "        mse_1 = self.MSE(self.y, y_predict_1) #minimum squared error\n",
        "        mse_2 = self.MSE(self.y_t, y_predict_2) #minimum squared error with data for testing\n",
        "        plt.plot(value, y, color= \"green\", marker =\"*\", markersize =10,label ='Predicted value')\n",
        "        print(\" Prediction \")\n",
        "        print(\"X: \", value)\n",
        "        print(\"Y: \", y)\n",
        "        print(\"Mean Squared Error with data for training\", mse_1)\n",
        "        print(\"Mean Squared Error with data for testing\", mse_2)\n",
        "        return y,b0,b1\n",
        "    \"\"\"This method is used to calculate the Mean Square Error\"\"\"\n",
        "    def MSE(self, y, y_predict):\n",
        "        mse = np.mean((y-y_predict)**2)\n",
        "        return (mse)\n",
        "     "
      ],
      "execution_count": null,
      "outputs": []
    },
    {
      "cell_type": "markdown",
      "metadata": {
        "id": "_TL-RuXAbGcJ"
      },
      "source": [
        "Step 4: Our main function in which we call the classes and methods that we previously defined"
      ]
    },
    {
      "cell_type": "code",
      "metadata": {
        "id": "LpHP35DKbGcJ",
        "outputId": "460a6828-ee4a-4325-d899-9738a5dfcc8e"
      },
      "source": [
        "def main():\n",
        "    \n",
        "    #Data definition, 30%=testing, 70%=training\n",
        "    wSep = df.Sepal_Width[df.Species == 'setosa']\n",
        "    lSep = df.Sepal_Length[df.Species == 'setosa']\n",
        "    N_train = (int)((len(wSep))*0.7)#Number of data to train the model\n",
        "    x_train = wSep[:N_train]\n",
        "    x_test = wSep[N_train:]\n",
        "    y_train = lSep[:N_train]\n",
        "    y_test = lSep[N_train:]\n",
        "    # Plot data\n",
        "    objG = Graph()\n",
        "    objR = Regression(x_train,y_train,x_test, y_test)\n",
        "    y,b0,b1 = objR.predict(4)\n",
        "    #Data for plot the linear regression\n",
        "    objG.plotGraph('Training a model using linear regression', 'Sepal Width','Sepal Length')\n",
        "    objG.plotScatter(x_test,y_test, 'Testing Values')\n",
        "    r = np.linspace(np.min(wSep),np.max(wSep),len(wSep))\n",
        "    objG.plotFunction(r,b1*r+b0, 'red', 'Linear Regression')\n",
        "    plt.legend()\n",
        "    #printing the results\n",
        "    print(\"Total number of data: \", len(wSep))\n",
        "    print(\"For training: \", len(x_train))\n",
        "    print(\"For testing: \", len(x_test))\n",
        "if __name__ == \"__main__\":\n",
        "    main()\n"
      ],
      "execution_count": null,
      "outputs": [
        {
          "output_type": "stream",
          "text": [
            " Prediction \n",
            "X:  4\n",
            "Y:  5.43412707909537\n",
            "Mean Squared Error with data for training 0.054738918613993486\n",
            "Mean Squared Error with data for testing 0.055466874516721915\n",
            "Total number of data:  50\n",
            "For training:  35\n",
            "For testing:  15\n"
          ],
          "name": "stdout"
        },
        {
          "output_type": "display_data",
          "data": {
            "image/png": "[encoded data removed]",
            "text/plain": [
              "<Figure size 432x288 with 1 Axes>"
            ]
          },
          "metadata": {
            "tags": [],
            "needs_background": "light"
          }
        }
      ]
    },
    {
      "cell_type": "code",
      "metadata": {
        "id": "jBfMuSLobGcK"
      },
      "source": [
        ""
      ],
      "execution_count": null,
      "outputs": []
    }
  ]
}