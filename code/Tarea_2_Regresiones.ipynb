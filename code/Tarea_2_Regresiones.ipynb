{
  "nbformat": 4,
  "nbformat_minor": 0,
  "metadata": {
    "kernelspec": {
      "display_name": "Python 3",
      "language": "python",
      "name": "python3"
    },
    "language_info": {
      "codemirror_mode": {
        "name": "ipython",
        "version": 3
      },
      "file_extension": ".py",
      "mimetype": "text/x-python",
      "name": "python",
      "nbconvert_exporter": "python",
      "pygments_lexer": "ipython3",
      "version": "3.8.6rc1"
    },
    "colab": {
      "name": "Tarea 1 Regresiones (2).ipynb",
      "provenance": []
    }
  },
  "cells": [
    {
      "cell_type": "markdown",
      "metadata": {
        "id": "gQZ8I1mmbj3v"
      },
      "source": [
        "# TAREA 1: Regresiones\n",
        "#### Inteligencia Artificial\n",
        "#### Autor: Miguel Alejandro López Olvera\n",
        "#### Correo: alejandrolo829@gmail.com"
      ]
    },
    {
      "cell_type": "markdown",
      "metadata": {
        "id": "LM8Lwkyrbj30"
      },
      "source": [
        "Step 1: Importing libraries and dataset"
      ]
    },
    {
      "cell_type": "code",
      "metadata": {
        "id": "O0nhLW6ebj31"
      },
      "source": [
        "import pandas as pd\n",
        "import matplotlib.pyplot as plt\n",
        "import numpy as np\n",
        "from sympy import symbols\n",
        "from sklearn import linear_model\n",
        "from sklearn.metrics import mean_squared_error\n",
        "\n",
        "df = pd.read_csv(\"https://raw.githubusercontent.com/ulises1229/IA-2021-II/main/data/iris.csv\")\n",
        "    \n",
        "#df.head()"
      ],
      "execution_count": null,
      "outputs": []
    },
    {
      "cell_type": "markdown",
      "metadata": {
        "id": "LsQaFeCabj31"
      },
      "source": [
        "*The formula for our lineal model is:*\n",
        "\n",
        "$ \\hat{y} =  b_0 + b_1 x$\n",
        "\n",
        "Where the slope can be understood as follows:\n",
        "\n",
        "$b1 = \\frac{\\sum x y  - \\frac{(\\sum x )(\\sum y)}{n} }{\\sum x^2 - \\frac{(\\sum x)^2}{n}} = \\frac{S_{xy}}{S_{xx}}$"
      ]
    },
    {
      "cell_type": "markdown",
      "metadata": {
        "id": "GhA38x1Kbj31"
      },
      "source": [
        "Step 2:\n",
        "Definition of a class to graph all the functions we want\n"
      ]
    },
    {
      "cell_type": "code",
      "metadata": {
        "id": "_C6imvubbj32"
      },
      "source": [
        "class Graph:\n",
        "\n",
        "    def plotGraph(self, title, xlabel,ylabel):\n",
        "        plt.title(title)\n",
        "        plt.ylabel(ylabel)\n",
        "        plt.xlabel(xlabel)\n",
        "    def plotScatter(self, x, y, label):\n",
        "        plt.scatter(x,y,label = label)\n",
        "    def plotFunction(self, rangex,func, color, legend):\n",
        "        plt.plot(rangex,func, color = color, label = legend)\n",
        "    def showPlot(self):\n",
        "        plt.show()\n"
      ],
      "execution_count": null,
      "outputs": []
    },
    {
      "cell_type": "markdown",
      "metadata": {
        "id": "7b85EBqLbj32"
      },
      "source": [
        "Step 3: we define a class that contains the following methods:\n",
        "\n",
        "       1. Constructor: that contains our variables.\n",
        "    \n",
        "       2.Linear regression: main function to make our linear model\n",
        "    \n",
        "       3. predict: receives a value on the \"x\" axis and returns a y value that fits the linear model\n",
        "    \n",
        "       4. MSE: here we calculate the mean square error"
      ]
    },
    {
      "cell_type": "code",
      "metadata": {
        "id": "n63XqQDibj32"
      },
      "source": [
        "class Regression:\n",
        "    def __init__(self, x, y,x_t,y_t):\n",
        "        self.x = x\n",
        "        self.y = y\n",
        "        self.x_t = x_t\n",
        "        self.y_t = y_t\n",
        "        self.a = symbols('a')\n",
        "\n",
        "    \"\"\" In this method we are doing a linear regression model\"\"\"\n",
        "    def linearRegression(self):\n",
        "        \"\"\"We have to calculate the slope of the regression line\"\"\"\n",
        "        #the first step is to calculate the sum of the square of the differences between x_mean and x  -->SSxx \n",
        "        x_mean = self.x.mean()\n",
        "        diffx = x_mean-self.x\n",
        "        diffx_squared = diffx**2\n",
        "        SSxx = diffx_squared.sum()\n",
        "        #The second step is to calculate SSxy\n",
        "        y_mean = self.y.mean()\n",
        "        diffy = y_mean-self.y \n",
        "        SSxy = (diffx * diffy).sum()\n",
        "        #once we have SSxx and SSxy we can calculate the slope just diving one by another following our equation\n",
        "        b1 = SSxy/SSxx\n",
        "        #finally, solving for the intercept we obtain:\n",
        "        b0 = y_mean -b1*x_mean\n",
        "        equation = b1*self.a+b0\n",
        "        return (equation, b0, b1)\n",
        "    \"\"\"Here we use our linear regression model to predict data \"\"\"\n",
        "    def predict(self, value):\n",
        "        objG = Graph()\n",
        "        equation, b0, b1 = self.linearRegression()\n",
        "        y = equation.subs(self.a,value)\n",
        "        y_predict_1 = b1*self.x+b0 #predicted values  \n",
        "        y_predict_2 = b1*self.x_t+b0 #predicted values with data for testing \n",
        "        #Plotting our model\n",
        "        objG.plotScatter(self.x,self.y,'Training values')\n",
        "        mse_1 = self.MSE(self.y, y_predict_1) #minimum squared error\n",
        "        mse_2 = self.MSE(self.y_t, y_predict_2) #minimum squared error with data for testing\n",
        "        plt.plot(value, y, color= \"green\", marker =\"*\", markersize =10,label ='Predicted value')\n",
        "        print(\" Prediction \")\n",
        "        print(\"X: \", value)\n",
        "        print(\"Y: \", y)\n",
        "        print(\"Mean Squared Error with data for training\", mse_1)\n",
        "        print(\"Mean Squared Error with data for testing\", mse_2)\n",
        "        print(\"Mean Squared Error with Sklearn\", mean_squared_error(self.y_t, y_predict_2, squared=True))\n",
        "        return y,b0,b1\n",
        "    \"\"\"This method is used to calculate the Mean Square Error\"\"\"\n",
        "    def MSE(self, y, y_predict):\n",
        "        mse = np.mean((y-y_predict)**2)\n",
        "        return (mse)\n",
        "     \n",
        "    \"\"\"Steps in gradient descent\"\"\"\n",
        "    #1 initialize betas, learnin rate, max_iter\n",
        "    #2 for loop that will run n times\n",
        "    #3 save a variable that holdes the error\n",
        "    #4 predictions using line equation\n",
        "    #5 calculate the error and append it to a vector so we can plot after\n",
        "    #6 calculate partial derivatives for both coefficients\n",
        "    #7 increase the cost of both coefficients\n",
        "    #8 update values of the coefficients\n",
        "\n",
        "    def gd_method(self, alpha):\n",
        "        #initializing parameters\n",
        "        equation, b0,b1 = self.linearRegression()\n",
        "        #we are doing this to see the effects in the error plot\n",
        "        b0 = 0\n",
        "        b1 = 1\n",
        "        max_iter = 100\n",
        "        error = []\n",
        "        for i in range(max_iter):\n",
        "            error_cost = 0\n",
        "            cost_b0 = 0\n",
        "            cost_b1 = 0\n",
        "            \n",
        "            for j in range(len(self.x)):\n",
        "                y_predict = (b0+b1*self.x[j])#predict value for actual x\n",
        "                \n",
        "                error_cost = error_cost + (self.y[j]-y_predict)**2 #we are iterating in all predicted values, so we can´t just use MSE \n",
        "                for k in range(len(self.x)):\n",
        "                    partial_wrt_b0 = -2 * (self.y[k] - (b0 + b1*self.x[k]))#partial derivative with respect to b0\n",
        "                    partial_wrt_b1 = (-2*self.x[k])*(self.y[k]-(b0+b1*self.x[k]))\n",
        "                    \n",
        "                    cost_b0 = cost_b0 + partial_wrt_b0\n",
        "                    cost_b1 = cost_b1 + partial_wrt_b1\n",
        "                    \n",
        "                #updating values\n",
        "                b0 = b0 - alpha*cost_b0\n",
        "                b1 = b1 - alpha*cost_b1\n",
        "                \n",
        "            error.append(error_cost)#the error is append to the vector\n",
        "        y_predict = b0 + b1*self.x#creating a newvector with predicted values\n",
        "        objG = Graph()\n",
        "        plt.plot(self.x, y_predict, label = \"Predicted line with GD\")\n",
        "        return error "
      ],
      "execution_count": null,
      "outputs": []
    },
    {
      "cell_type": "markdown",
      "metadata": {
        "id": "gyAexX19bj33"
      },
      "source": [
        "Step 4: Our main function in which we call the classes and methods that we previously defined"
      ]
    },
    {
      "cell_type": "code",
      "metadata": {
        "id": "BQSROr-Bbj33",
        "outputId": "b5100e0e-2a35-4250-ad64-520f31ce8c09"
      },
      "source": [
        "def main():\n",
        "    \n",
        "    #Data definition, 30%=testing, 70%=training\n",
        "    wSep = df.Sepal_Width[df.Species == 'setosa']\n",
        "    lSep = df.Sepal_Length[df.Species == 'setosa']\n",
        "    N_train = (int)((len(wSep))*0.7)#Number of data to train the model\n",
        "    x_train = wSep[:N_train]\n",
        "    x_test = wSep[N_train:]\n",
        "    y_train = lSep[:N_train]\n",
        "    y_test = lSep[N_train:]\n",
        "    # Plot data\n",
        "    objG = Graph()\n",
        "    objR = Regression(x_train,y_train,x_test, y_test)\n",
        "    y,b0,b1 = objR.predict(4)\n",
        "    #Data for plot the linear regression\n",
        "    objG.plotGraph('Training a model using linear regression', 'Sepal Width','Sepal Length')\n",
        "    objG.plotScatter(x_test,y_test, 'Testing Values')\n",
        "    r = np.linspace(np.min(wSep),np.max(wSep),len(wSep))\n",
        "    objG.plotFunction(r,b1*r+b0, 'red', 'Linear Regression')\n",
        "    #printing the results\n",
        "    print(\"Total number of data: \", len(wSep))\n",
        "    print(\"For training: \", len(x_train))\n",
        "    print(\"For testing: \", len(x_test))\n",
        "    error = objR.gd_method(0.001)\n",
        "    plt.legend()\n",
        "    #now we can plot the error that we have obtain with GD\n",
        "    plt.figure(figsize=(11,6))\n",
        "    plt.plot(np.arange(1,len(error)+1),error,color='blue',linewidth=2)\n",
        "    plt.title(\"Iteration vs Error\")\n",
        "    plt.xlabel(\"Number of Iteration\")\n",
        "    plt.ylabel(\"Error\")\n",
        "if __name__ == \"__main__\":\n",
        "    main()\n"
      ],
      "execution_count": null,
      "outputs": [
        {
          "output_type": "stream",
          "text": [
            " Prediction \n",
            "X:  4\n",
            "Y:  5.43412707909537\n",
            "Mean Squared Error with data for training 0.054738918613993486\n",
            "Mean Squared Error with data for testing 0.055466874516721915\n",
            "Mean Squared Error with Sklearn 0.055466874516721915\n",
            "Total number of data:  50\n",
            "For training:  35\n",
            "For testing:  15\n"
          ],
          "name": "stdout"
        },
        {
          "output_type": "display_data",
          "data": {
            "image/png": "[encoded data removed]",
            "text/plain": [
              "<Figure size 432x288 with 1 Axes>"
            ]
          },
          "metadata": {
            "tags": [],
            "needs_background": "light"
          }
        },
        {
          "output_type": "display_data",
          "data": {
            "image/png": "[encoded data removed]",
            "text/plain": [
              "<Figure size 792x432 with 1 Axes>"
            ]
          },
          "metadata": {
            "tags": [],
            "needs_background": "light"
          }
        }
      ]
    }
  ]
}